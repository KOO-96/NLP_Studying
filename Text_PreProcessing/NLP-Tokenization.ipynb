{
 "cells": [
  {
   "cell_type": "markdown",
   "id": "206e3d82",
   "metadata": {},
   "source": [
    "# NLP"
   ]
  },
  {
   "cell_type": "markdown",
   "id": "6269a914",
   "metadata": {},
   "source": [
    "## Framework & Library\n",
    "\n",
    "1. 텐서플로우(Tensroflow)\n",
    " - 구글에서 2015년에 공개한 ML 오픈소스 라이브러리\n",
    " - install\n",
    "     - pip install tensorflow\n",
    "     - import tensorflow as tf\n",
    "     - tf.__version__  \n",
    " \n",
    "2. 케라스(Keras)\n",
    " - 텐서플로우에 대한 추상화 된 API를 제공\n",
    " - install\n",
    "     - pip install keras\n",
    "     - import keras\n",
    "     - keras.__version__  \n",
    "     \n",
    "3. 젠심(Gensim)\n",
    " - ML을 사용한 토픽 모델링과 자연어 처리를 수행할 수 있는 오픈소스 라이브러리\n",
    " - install\n",
    "     - pip install gensim\n",
    "     - import gensim\n",
    "     - gensim.__version__  \n",
    "     \n",
    "4. 사이킷런(Scikit-learn)\n",
    " - 파이썬 ML 라이브러리 --> iris등 다양한 데이터를 제공\n",
    " - install\n",
    "     - pip install scikit-learn\n",
    "     - import sklearn\n",
    "     - sklearn.__version__  "
   ]
  },
  {
   "attachments": {
    "image.png": {
     "image/png": "[encoded data removed]"
    }
   },
   "cell_type": "markdown",
   "id": "4a36c0bc",
   "metadata": {},
   "source": [
    "### 자연어 처리를 위한 NLTK, KoNLPy\n",
    "\n",
    "1. NLTK\n",
    " - 자연어 처리를 위한 파이썬 패키지 (anaconda에 기본적으로 설치된 패키지)\n",
    " - install\n",
    "     - pip install nltk\n",
    "     - import nltk\n",
    "     - nltk.__version__  \n",
    "     - nltk.download()\n",
    "\n",
    "NLTK 에러\n",
    "1-1. \n",
    "```\n",
    "LookupError: \n",
    "**********************************************************************\n",
    "Resource treebank not found.\n",
    "Please use the NLTK Downloader to obtain the resource:\n",
    ">>> import nltk\n",
    ">>> nltk.download('treebank')\n",
    "**********************************************************************\n",
    "```\n",
    "\n",
    "1-2. 설치시 에러 발생한 경우\n",
    "링크 : [github](https://github.com/nltk/nltk_data)\n",
    "\n",
    "---\n",
    "\n",
    "2. KoNLPy\n",
    " - 자연어 처리를 위한 파이썬 패키지 (anaconda에 기본적으로 설치된 패키지)\n",
    " - install\n",
    "     - pip install konlpy\n",
    "     - import konlpy\n",
    "     - konlpy.__version__  \n",
    "     \n",
    "2-1. Window에서 KoNLPy에러 발생하는 경우\n",
    " - 1. JDK 설치 ([설치주소](https://www.oracle.com/technetwork/java/javase/downloads/index.html))  \n",
    " 경로 예시 : C:\\Program Files\\Java\\jdk-11.0.1\n",
    " \n",
    " - 2. JDK 환경 변수 설정\n",
    "   - 제어판 > 시스템 및 보안 > 시스템 > 고급 시스템 설정 > 고급 > 환경 변수  -> JAVA_HOME이라는 환경변수 설치\n",
    "\n",
    "<div style=\"text-align: left;\">\n",
    "  <img src=\"attachment:image.png\" style=\"width: 30%;\">\n",
    "</div>\n",
    "\n",
    " - 3. JPype 설치\n",
    "   - ex_ 파이썬 3.x , window64\n",
    "   - pip install JPype1-0.6.3-cp36-cp36m-win_amd64.whl"
   ]
  },
  {
   "cell_type": "markdown",
   "id": "9f876dfc",
   "metadata": {},
   "source": [
    "### 텍스트 전처리\n",
    "\n",
    "- 1. Tokenization(토큰화)\n",
    "    - 주어진 코퍼스(corpus)에서 토큰(token)이라 불리는 단위로 나누는 작업\n",
    "    - Input : Time is an illusion. Lunchtime double so!\n",
    "    - Output : \"Time\", \"is\", \"an\", \"illustion\", \"Lunchtime\", \"double\", \"so\"\n",
    "    \n",
    "- 2. 토큰화 기준을 선택하는 것\n",
    "  - Don't be ~\n",
    "    - Don't\n",
    "    - Don t\n",
    "    - Dont\n",
    "    - Do n't\n",
    "    \n",
    "  - NLTK는 영어 단어를 토큰화 하기위한 도구를 제공해줍니다."
   ]
  },
  {
   "cell_type": "code",
   "execution_count": 12,
   "id": "95a1bace",
   "metadata": {},
   "outputs": [],
   "source": [
    "import tensorflow as tf\n",
    "import keras\n",
    "import gensim\n",
    "import sklearn\n",
    "\n",
    "import nltk\n",
    "import konlpy"
   ]
  },
  {
   "cell_type": "code",
   "execution_count": 10,
   "id": "eb2e58d6",
   "metadata": {},
   "outputs": [
    {
     "name": "stdout",
     "output_type": "stream",
     "text": [
      "Requirement already satisfied: KoNLPy in c:\\users\\rntjdwns\\anaconda3\\lib\\site-packages (0.6.0)\n",
      "Requirement already satisfied: JPype1>=0.7.0 in c:\\users\\rntjdwns\\anaconda3\\lib\\site-packages (from KoNLPy) (1.5.0)\n",
      "Requirement already satisfied: lxml>=4.1.0 in c:\\users\\rntjdwns\\anaconda3\\lib\\site-packages (from KoNLPy) (4.9.2)\n",
      "Requirement already satisfied: numpy>=1.6 in c:\\users\\rntjdwns\\anaconda3\\lib\\site-packages (from KoNLPy) (1.26.4)\n",
      "Requirement already satisfied: packaging in c:\\users\\rntjdwns\\anaconda3\\lib\\site-packages (from JPype1>=0.7.0->KoNLPy) (23.0)\n",
      "Note: you may need to restart the kernel to use updated packages.\n"
     ]
    }
   ],
   "source": [
    "pip install konlpy"
   ]
  },
  {
   "cell_type": "code",
   "execution_count": 14,
   "id": "f824565a",
   "metadata": {},
   "outputs": [
    {
     "name": "stderr",
     "output_type": "stream",
     "text": [
      "[nltk_data] Downloading package punkt to\n",
      "[nltk_data]     C:\\Users\\rntjdwns\\AppData\\Roaming\\nltk_data...\n",
      "[nltk_data]   Unzipping tokenizers\\punkt.zip.\n"
     ]
    },
    {
     "data": {
      "text/plain": [
       "True"
      ]
     },
     "execution_count": 14,
     "metadata": {},
     "output_type": "execute_result"
    }
   ],
   "source": [
    "nltk.download('punkt')"
   ]
  },
  {
   "cell_type": "code",
   "execution_count": 15,
   "id": "af9b5111",
   "metadata": {},
   "outputs": [
    {
     "name": "stdout",
     "output_type": "stream",
     "text": [
      "단어 토큰화1 : ['Do', \"n't\", 'be', 'fooled', 'by', 'the', 'dark', 'sounding', 'name', ',', 'Mr.', 'Jone', \"'s\", 'Orphanage', 'is', 'as', 'cheery', 'as', 'cheery', 'goes', 'for', 'a', 'pastry', 'shop', '.']\n"
     ]
    }
   ],
   "source": [
    "from nltk.tokenize import word_tokenize\n",
    "from nltk.tokenize import WordPunctTokenizer\n",
    "from tensorflow.keras.preprocessing.text import text_to_word_sequence\n",
    "\n",
    "print('단어 토큰화1 :',word_tokenize(\"Don't be fooled by the dark sounding name, Mr. Jone's Orphanage is as cheery as cheery goes for a pastry shop.\"))"
   ]
  },
  {
   "cell_type": "markdown",
   "id": "02c62587",
   "metadata": {},
   "source": [
    "위 결과 \"Do\", \"n't\" 반면 'Jone', \"'s\" 로 분리했습니다. "
   ]
  },
  {
   "cell_type": "code",
   "execution_count": 17,
   "id": "244d98ba",
   "metadata": {},
   "outputs": [
    {
     "name": "stdout",
     "output_type": "stream",
     "text": [
      "단어 토큰화2 : ['Don', \"'\", 't', 'be', 'fooled', 'by', 'the', 'dark', 'sounding', 'name', ',', 'Mr', '.', 'Jone', \"'\", 's', 'Orphanage', 'is', 'as', 'cheery', 'as', 'cheery', 'goes', 'for', 'a', 'pastry', 'shop', '.']\n"
     ]
    }
   ],
   "source": [
    "print('단어 토큰화2 :',WordPunctTokenizer().tokenize(\"Don't be fooled by the dark sounding name, Mr. Jone's Orphanage is as cheery as cheery goes for a pastry shop.\"))"
   ]
  },
  {
   "cell_type": "markdown",
   "id": "c0544d91",
   "metadata": {},
   "source": [
    "WordPunctTokenizer같은 경우 구두점을 별도로 분류하는 특징을 가지고 있습니다.     \n",
    "Don't를 Don과 '와 t, Jone's를 Jone과 '와 s로 분리해서 나타냈습니다."
   ]
  },
  {
   "cell_type": "code",
   "execution_count": 18,
   "id": "68558a4f",
   "metadata": {},
   "outputs": [
    {
     "name": "stdout",
     "output_type": "stream",
     "text": [
      "단어 토큰화3 : [\"don't\", 'be', 'fooled', 'by', 'the', 'dark', 'sounding', 'name', 'mr', \"jone's\", 'orphanage', 'is', 'as', 'cheery', 'as', 'cheery', 'goes', 'for', 'a', 'pastry', 'shop']\n"
     ]
    }
   ],
   "source": [
    "print('단어 토큰화3 :',text_to_word_sequence(\"Don't be fooled by the dark sounding name, Mr. Jone's Orphanage is as cheery as cheery goes for a pastry shop.\"))"
   ]
  },
  {
   "cell_type": "markdown",
   "id": "0c32644e",
   "metadata": {},
   "source": [
    "기본적으로 모든 알파벳을 소문자로 바꾸면서 마침표나 컴마, 느낌표 등의 구두점을 제거하지만 don't나 jone's와 같은 경우 아포스트로피는 보존해주는 특징을 보입니다."
   ]
  },
  {
   "cell_type": "markdown",
   "id": "0818ae75",
   "metadata": {},
   "source": [
    "3. 토큰화에서 고려할 사항\n",
    "  - 1. 구두점이나 특수 문자를 단순 제외하면 안된다.\n",
    "    - 구두점이나 특수 문자를 단순히 제외하는 것은 X\n",
    "    - 정제 작업을 진행하다보면 구두점조차 하나의 토큰으로 분류하기도 한다.\n",
    "    - 마침표(.)같은 경우 문장의 경계를 알 수 있기에 제외하지 않을 수 있다.\n",
    "    - 추가적으로 $12.5는 가격을 의미하고 24/07/14는 날짜를 의미하기때문에 분류하지 않는게 좋습니다.\n",
    "  - 2. 줄임말과 단어 내에 띄어쓰기가 있는 경우\n",
    "    - 영어는 '를 사용해 단어를 줄이는 경우가 있습니다. ex) I am -> I'm"
   ]
  },
  {
   "cell_type": "code",
   "execution_count": 22,
   "id": "87f9cf75",
   "metadata": {},
   "outputs": [
    {
     "name": "stdout",
     "output_type": "stream",
     "text": [
      "트리뱅크 워드토크나이저 : ['Starting', 'a', 'home-based', 'restaurant', 'may', 'be', 'an', 'ideal.', 'it', 'does', \"n't\", 'have', 'a', 'food', 'chain', 'or', 'restaurant', 'of', 'their', 'own', '.']\n"
     ]
    }
   ],
   "source": [
    "## 표준 토큰화 예제\n",
    "\n",
    "from nltk.tokenize import TreebankWordTokenizer\n",
    "\n",
    "tokenizer = TreebankWordTokenizer()\n",
    "\n",
    "text = \"Starting a home-based restaurant may be an ideal. it doesn't have a food chain or restaurant of their own.\"\n",
    "print('트리뱅크 워드토크나이저 :',tokenizer.tokenize(text))"
   ]
  },
  {
   "cell_type": "markdown",
   "id": "7bbcedf7",
   "metadata": {},
   "source": [
    "출력 결과를 보면 home-based는 하나의 토큰으로 취급하고 있으며, dosen't의 경우 does와 n't는 분리되어 있습니다."
   ]
  },
  {
   "cell_type": "markdown",
   "id": "a15f6402",
   "metadata": {},
   "source": [
    "### 문장 토큰화(Sentence Tokenization)\n",
    "토큰의 단위가 문장일 경우입니다. corpus에서 문장 단위 작업을 sentence segmentation 즉, 문장 분류라고 합니다.  \n",
    "corpus가 정제되어 있지 않은 상태라면 용도에 맞게 문장 토큰이 필요할 수 있습니다.  "
   ]
  },
  {
   "cell_type": "code",
   "execution_count": 25,
   "id": "cd3651e5",
   "metadata": {},
   "outputs": [
    {
     "name": "stdout",
     "output_type": "stream",
     "text": [
      "문장 토큰화1 : ['His barber kept his word.', 'But keeping such a huge secret to himself was driving him crazy.', 'Finally, the barber went up a mountain and almost to the edge of a cliff.', 'He dug a hole in the midst of some reeds.', 'He looked about, to make sure no one was near.']\n",
      "\n",
      "\n",
      "문장 토큰화2 : ['I am actively looking for Ph.D. students.', 'and you are a Ph.D student.']\n"
     ]
    }
   ],
   "source": [
    "# NLTK에서는 영어 문장의 토큰화를 수행하는 sent_tokenize 패키지를 가지고 있습니다.\n",
    "from nltk.tokenize import sent_tokenize\n",
    "\n",
    "text = \"His barber kept his word. But keeping such a huge secret to himself was driving him crazy. Finally, the barber went up a mountain and almost to the edge of a cliff. He dug a hole in the midst of some reeds. He looked about, to make sure no one was near.\"\n",
    "print('문장 토큰화1 :',sent_tokenize(text))\n",
    "print('\\n')\n",
    "text = \"I am actively looking for Ph.D. students. and you are a Ph.D student.\"\n",
    "print('문장 토큰화2 :',sent_tokenize(text))"
   ]
  },
  {
   "cell_type": "markdown",
   "id": "24048bd1",
   "metadata": {},
   "source": [
    "NLTK의 sent_tokenize는 Ph.D. 를 문장의 단어로 인식하는 것을 볼 수 있습니다.\n"
   ]
  },
  {
   "cell_type": "code",
   "execution_count": 28,
   "id": "574abce0",
   "metadata": {
    "collapsed": true
   },
   "outputs": [
    {
     "name": "stdout",
     "output_type": "stream",
     "text": [
      "Collecting kssNote: you may need to restart the kernel to use updated packages.\n",
      "\n",
      "  Downloading kss-6.0.4.tar.gz (1.1 MB)\n",
      "     ---------------------------------------- 0.0/1.1 MB ? eta -:--:--\n",
      "     ------------- -------------------------- 0.4/1.1 MB 11.2 MB/s eta 0:00:01\n",
      "     ---------------------------------- ----- 1.0/1.1 MB 12.2 MB/s eta 0:00:01\n",
      "     ---------------------------------------- 1.1/1.1 MB 10.1 MB/s eta 0:00:00\n",
      "  Preparing metadata (setup.py): started\n",
      "  Preparing metadata (setup.py): finished with status 'done'\n",
      "Collecting emoji==1.2.0 (from kss)\n",
      "  Obtaining dependency information for emoji==1.2.0 from https://files.pythonhosted.org/packages/24/fa/b3368f41b95a286f8d300e323449ab4e86b85334c2e0b477e94422b8ed0f/emoji-1.2.0-py3-none-any.whl.metadata\n",
      "  Downloading emoji-1.2.0-py3-none-any.whl.metadata (4.3 kB)\n",
      "Collecting pecab (from kss)\n",
      "  Downloading pecab-1.0.8.tar.gz (26.4 MB)\n",
      "     ---------------------------------------- 0.0/26.4 MB ? eta -:--:--\n",
      "     - -------------------------------------- 0.9/26.4 MB 27.4 MB/s eta 0:00:01\n",
      "     -- ------------------------------------- 1.9/26.4 MB 23.8 MB/s eta 0:00:02\n",
      "     ---- ----------------------------------- 3.0/26.4 MB 23.8 MB/s eta 0:00:01\n",
      "     ------ --------------------------------- 4.4/26.4 MB 25.5 MB/s eta 0:00:01\n",
      "     -------- ------------------------------- 5.8/26.4 MB 26.7 MB/s eta 0:00:01\n",
      "     ---------- ----------------------------- 7.1/26.4 MB 26.8 MB/s eta 0:00:01\n",
      "     ------------ --------------------------- 8.5/26.4 MB 27.2 MB/s eta 0:00:01\n",
      "     -------------- ------------------------- 9.8/26.4 MB 27.2 MB/s eta 0:00:01\n",
      "     ---------------- ---------------------- 11.3/26.4 MB 28.4 MB/s eta 0:00:01\n",
      "     ------------------- ------------------- 13.3/26.4 MB 31.2 MB/s eta 0:00:01\n",
      "     --------------------- ----------------- 14.6/26.4 MB 31.2 MB/s eta 0:00:01\n",
      "     ----------------------- --------------- 16.1/26.4 MB 31.2 MB/s eta 0:00:01\n",
      "     ------------------------- ------------- 17.6/26.4 MB 31.2 MB/s eta 0:00:01\n",
      "     ---------------------------- ---------- 19.0/26.4 MB 31.2 MB/s eta 0:00:01\n",
      "     ------------------------------ -------- 20.4/26.4 MB 31.2 MB/s eta 0:00:01\n",
      "     -------------------------------- ------ 21.7/26.4 MB 31.1 MB/s eta 0:00:01\n",
      "     ---------------------------------- ---- 23.1/26.4 MB 29.8 MB/s eta 0:00:01\n",
      "     ----------------------------------- --- 24.3/26.4 MB 29.8 MB/s eta 0:00:01\n",
      "     --------------------------------------  26.2/26.4 MB 31.2 MB/s eta 0:00:01\n",
      "     --------------------------------------  26.4/26.4 MB 32.8 MB/s eta 0:00:01\n",
      "     --------------------------------------  26.4/26.4 MB 32.8 MB/s eta 0:00:01\n",
      "     --------------------------------------  26.4/26.4 MB 32.8 MB/s eta 0:00:01\n",
      "     --------------------------------------  26.4/26.4 MB 32.8 MB/s eta 0:00:01\n",
      "     --------------------------------------  26.4/26.4 MB 32.8 MB/s eta 0:00:01\n",
      "     --------------------------------------- 26.4/26.4 MB 18.2 MB/s eta 0:00:00\n",
      "  Preparing metadata (setup.py): started\n",
      "  Preparing metadata (setup.py): finished with status 'done'\n",
      "Requirement already satisfied: networkx in c:\\users\\rntjdwns\\anaconda3\\lib\\site-packages (from kss) (3.1)\n",
      "Collecting jamo (from kss)\n",
      "  Obtaining dependency information for jamo from https://files.pythonhosted.org/packages/ac/cc/49812faae67f9a24be6ddaf58a2cf7e8c3cbfcf5b762d9414f7103d2ea2c/jamo-0.4.1-py3-none-any.whl.metadata\n",
      "  Downloading jamo-0.4.1-py3-none-any.whl.metadata (2.3 kB)\n",
      "Collecting hangul-jamo (from kss)\n",
      "  Obtaining dependency information for hangul-jamo from https://files.pythonhosted.org/packages/28/5e/c5d56da3b58097708595890a61f2d3f982f4e8b059fff0b02f9be370f4be/hangul_jamo-1.0.1-py3-none-any.whl.metadata\n",
      "  Downloading hangul_jamo-1.0.1-py3-none-any.whl.metadata (899 bytes)\n",
      "Collecting tossi (from kss)\n",
      "  Downloading tossi-0.3.1.tar.gz (11 kB)\n",
      "  Preparing metadata (setup.py): started\n",
      "  Preparing metadata (setup.py): finished with status 'done'\n",
      "Collecting distance (from kss)\n",
      "  Downloading Distance-0.1.3.tar.gz (180 kB)\n",
      "     ---------------------------------------- 0.0/180.3 kB ? eta -:--:--\n",
      "     ------------------------------------- 180.3/180.3 kB 11.3 MB/s eta 0:00:00\n",
      "  Preparing metadata (setup.py): started\n",
      "  Preparing metadata (setup.py): finished with status 'done'\n",
      "Requirement already satisfied: pyyaml==6.0 in c:\\users\\rntjdwns\\anaconda3\\lib\\site-packages (from kss) (6.0)\n",
      "Requirement already satisfied: unidecode in c:\\users\\rntjdwns\\anaconda3\\lib\\site-packages (from kss) (1.2.0)\n",
      "Collecting cmudict (from kss)\n",
      "  Obtaining dependency information for cmudict from https://files.pythonhosted.org/packages/c3/53/8a56b60c8c1d4919c576f4806b0f4bbea1979fd492b8aeba131c12b2bfef/cmudict-1.0.26-py3-none-any.whl.metadata\n",
      "  Downloading cmudict-1.0.26-py3-none-any.whl.metadata (3.5 kB)\n",
      "Collecting koparadigm (from kss)\n",
      "  Obtaining dependency information for koparadigm from https://files.pythonhosted.org/packages/b8/ab/79d089283785526ef3838e0cc5b0824102b2fa2dc2639064faa0315f580b/koparadigm-0.10.0-py3-none-any.whl.metadata\n",
      "  Downloading koparadigm-0.10.0-py3-none-any.whl.metadata (2.9 kB)\n",
      "Collecting kollocate (from kss)\n",
      "  Obtaining dependency information for kollocate from https://files.pythonhosted.org/packages/de/42/c41d6181ebc619e8b53830c9b726baadf8c54d8d913ec68420f1dc288973/kollocate-0.0.2-py3-none-any.whl.metadata\n",
      "  Downloading kollocate-0.0.2-py3-none-any.whl.metadata (1.8 kB)\n",
      "Collecting bs4 (from kss)\n",
      "  Obtaining dependency information for bs4 from https://files.pythonhosted.org/packages/51/bb/bf7aab772a159614954d84aa832c129624ba6c32faa559dfb200a534e50b/bs4-0.0.2-py2.py3-none-any.whl.metadata\n",
      "  Downloading bs4-0.0.2-py2.py3-none-any.whl.metadata (411 bytes)\n",
      "Requirement already satisfied: numpy in c:\\users\\rntjdwns\\anaconda3\\lib\\site-packages (from kss) (1.26.4)\n",
      "Requirement already satisfied: pytest in c:\\users\\rntjdwns\\anaconda3\\lib\\site-packages (from kss) (7.4.0)\n",
      "Requirement already satisfied: scipy in c:\\users\\rntjdwns\\anaconda3\\lib\\site-packages (from kss) (1.10.1)\n",
      "Requirement already satisfied: beautifulsoup4 in c:\\users\\rntjdwns\\anaconda3\\lib\\site-packages (from bs4->kss) (4.12.2)\n",
      "Requirement already satisfied: importlib-metadata>=5 in c:\\users\\rntjdwns\\anaconda3\\lib\\site-packages (from cmudict->kss) (6.0.0)\n",
      "Requirement already satisfied: importlib-resources>=5 in c:\\users\\rntjdwns\\anaconda3\\lib\\site-packages (from cmudict->kss) (6.4.0)\n",
      "Collecting whoosh (from kollocate->kss)\n",
      "  Obtaining dependency information for whoosh from https://files.pythonhosted.org/packages/ba/19/24d0f1f454a2c1eb689ca28d2f178db81e5024f42d82729a4ff6771155cf/Whoosh-2.7.4-py2.py3-none-any.whl.metadata\n",
      "  Downloading Whoosh-2.7.4-py2.py3-none-any.whl.metadata (3.1 kB)\n",
      "Collecting xlrd==1.2.0 (from koparadigm->kss)\n",
      "  Obtaining dependency information for xlrd==1.2.0 from https://files.pythonhosted.org/packages/b0/16/63576a1a001752e34bf8ea62e367997530dc553b689356b9879339cf45a4/xlrd-1.2.0-py2.py3-none-any.whl.metadata\n",
      "  Downloading xlrd-1.2.0-py2.py3-none-any.whl.metadata (1.3 kB)\n",
      "Requirement already satisfied: pyarrow in c:\\users\\rntjdwns\\anaconda3\\lib\\site-packages (from pecab->kss) (11.0.0)\n",
      "Requirement already satisfied: regex in c:\\users\\rntjdwns\\anaconda3\\lib\\site-packages (from pecab->kss) (2022.7.9)\n",
      "Requirement already satisfied: iniconfig in c:\\users\\rntjdwns\\anaconda3\\lib\\site-packages (from pytest->kss) (1.1.1)\n",
      "Requirement already satisfied: packaging in c:\\users\\rntjdwns\\anaconda3\\lib\\site-packages (from pytest->kss) (23.0)\n",
      "Requirement already satisfied: pluggy<2.0,>=0.12 in c:\\users\\rntjdwns\\anaconda3\\lib\\site-packages (from pytest->kss) (1.0.0)\n",
      "Requirement already satisfied: colorama in c:\\users\\rntjdwns\\anaconda3\\lib\\site-packages (from pytest->kss) (0.4.6)\n",
      "Collecting bidict (from tossi->kss)\n",
      "  Obtaining dependency information for bidict from https://files.pythonhosted.org/packages/99/37/e8730c3587a65eb5645d4aba2d27aae48e8003614d6aaf15dda67f702f1f/bidict-0.23.1-py3-none-any.whl.metadata\n",
      "  Downloading bidict-0.23.1-py3-none-any.whl.metadata (8.7 kB)\n",
      "Requirement already satisfied: six in c:\\users\\rntjdwns\\anaconda3\\lib\\site-packages (from tossi->kss) (1.16.0)\n",
      "Requirement already satisfied: zipp>=0.5 in c:\\users\\rntjdwns\\anaconda3\\lib\\site-packages (from importlib-metadata>=5->cmudict->kss) (3.11.0)\n",
      "Requirement already satisfied: soupsieve>1.2 in c:\\users\\rntjdwns\\anaconda3\\lib\\site-packages (from beautifulsoup4->bs4->kss) (2.4)\n",
      "Downloading emoji-1.2.0-py3-none-any.whl (131 kB)\n",
      "   ---------------------------------------- 0.0/131.3 kB ? eta -:--:--\n",
      "   ---------------------------------------- 131.3/131.3 kB 7.6 MB/s eta 0:00:00\n",
      "Downloading bs4-0.0.2-py2.py3-none-any.whl (1.2 kB)\n",
      "Downloading cmudict-1.0.26-py3-none-any.whl (939 kB)\n",
      "   ---------------------------------------- 0.0/939.4 kB ? eta -:--:--\n",
      "   --------------------------------------- 939.4/939.4 kB 30.0 MB/s eta 0:00:00\n",
      "Downloading hangul_jamo-1.0.1-py3-none-any.whl (4.4 kB)\n",
      "Downloading jamo-0.4.1-py3-none-any.whl (9.5 kB)\n",
      "Downloading kollocate-0.0.2-py3-none-any.whl (72.2 MB)\n",
      "   ---------------------------------------- 0.0/72.2 MB ? eta -:--:--\n",
      "    --------------------------------------- 1.6/72.2 MB 32.9 MB/s eta 0:00:03\n",
      "   - -------------------------------------- 3.0/72.2 MB 38.5 MB/s eta 0:00:02\n",
      "   - -------------------------------------- 3.4/72.2 MB 27.4 MB/s eta 0:00:03\n",
      "   -- ------------------------------------- 3.6/72.2 MB 21.0 MB/s eta 0:00:04\n",
      "   -- ------------------------------------- 4.1/72.2 MB 18.6 MB/s eta 0:00:04\n",
      "   -- ------------------------------------- 4.8/72.2 MB 17.2 MB/s eta 0:00:04\n",
      "   --- ------------------------------------ 6.0/72.2 MB 18.2 MB/s eta 0:00:04\n",
      "   ---- ----------------------------------- 7.6/72.2 MB 20.2 MB/s eta 0:00:04\n",
      "   ---- ----------------------------------- 9.0/72.2 MB 21.2 MB/s eta 0:00:03\n",
      "   ----- ---------------------------------- 10.6/72.2 MB 21.9 MB/s eta 0:00:03\n",
      "   ------ --------------------------------- 12.0/72.2 MB 21.9 MB/s eta 0:00:03\n",
      "   ------- -------------------------------- 13.1/72.2 MB 21.1 MB/s eta 0:00:03\n",
      "   ------- -------------------------------- 14.4/72.2 MB 28.5 MB/s eta 0:00:03\n",
      "   -------- ------------------------------- 16.0/72.2 MB 31.2 MB/s eta 0:00:02\n",
      "   --------- ------------------------------ 17.4/72.2 MB 31.2 MB/s eta 0:00:02\n",
      "   ---------- ----------------------------- 18.2/72.2 MB 29.7 MB/s eta 0:00:02\n",
      "   ---------- ----------------------------- 19.8/72.2 MB 28.4 MB/s eta 0:00:02\n",
      "   ----------- ---------------------------- 21.1/72.2 MB 28.5 MB/s eta 0:00:02\n",
      "   ------------ --------------------------- 22.4/72.2 MB 31.2 MB/s eta 0:00:02\n",
      "   ------------ --------------------------- 23.3/72.2 MB 27.3 MB/s eta 0:00:02\n",
      "   ------------ --------------------------- 23.4/72.2 MB 25.2 MB/s eta 0:00:02\n",
      "   ------------- -------------------------- 23.8/72.2 MB 22.6 MB/s eta 0:00:03\n",
      "   -------------- ------------------------- 25.3/72.2 MB 22.6 MB/s eta 0:00:03\n",
      "   --------------- ------------------------ 27.2/72.2 MB 22.6 MB/s eta 0:00:02\n",
      "   --------------- ------------------------ 28.4/72.2 MB 22.6 MB/s eta 0:00:02\n",
      "   ---------------- ----------------------- 30.0/72.2 MB 23.4 MB/s eta 0:00:02\n",
      "   ----------------- ---------------------- 31.4/72.2 MB 24.2 MB/s eta 0:00:02\n",
      "   ------------------ --------------------- 32.6/72.2 MB 23.4 MB/s eta 0:00:02\n",
      "   ------------------ --------------------- 34.1/72.2 MB 31.2 MB/s eta 0:00:02\n",
      "   ------------------- -------------------- 35.5/72.2 MB 31.1 MB/s eta 0:00:02\n",
      "   -------------------- ------------------- 36.9/72.2 MB 29.8 MB/s eta 0:00:02\n",
      "   --------------------- ------------------ 38.0/72.2 MB 28.5 MB/s eta 0:00:02\n",
      "   --------------------- ------------------ 39.2/72.2 MB 28.5 MB/s eta 0:00:02\n",
      "   ---------------------- ----------------- 40.2/72.2 MB 27.3 MB/s eta 0:00:02\n",
      "   ---------------------- ----------------- 41.4/72.2 MB 26.2 MB/s eta 0:00:02\n",
      "   ----------------------- ---------------- 43.0/72.2 MB 28.4 MB/s eta 0:00:02\n",
      "   ------------------------ --------------- 44.2/72.2 MB 27.3 MB/s eta 0:00:02\n",
      "   ------------------------ --------------- 45.1/72.2 MB 27.3 MB/s eta 0:00:01\n",
      "   ------------------------- -------------- 46.6/72.2 MB 27.3 MB/s eta 0:00:01\n",
      "   -------------------------- ------------- 48.2/72.2 MB 27.3 MB/s eta 0:00:01\n",
      "   --------------------------- ------------ 48.8/72.2 MB 26.2 MB/s eta 0:00:01\n",
      "   ---------------------------- ----------- 51.1/72.2 MB 28.5 MB/s eta 0:00:01\n",
      "   ----------------------------- ---------- 52.5/72.2 MB 29.7 MB/s eta 0:00:01\n",
      "   ----------------------------- ---------- 53.9/72.2 MB 28.4 MB/s eta 0:00:01\n",
      "   ------------------------------ --------- 55.3/72.2 MB 31.2 MB/s eta 0:00:01\n",
      "   ------------------------------- -------- 56.6/72.2 MB 31.2 MB/s eta 0:00:01\n",
      "   -------------------------------- ------- 58.0/72.2 MB 31.2 MB/s eta 0:00:01\n",
      "   -------------------------------- ------- 59.4/72.2 MB 31.2 MB/s eta 0:00:01\n",
      "   --------------------------------- ------ 60.5/72.2 MB 31.1 MB/s eta 0:00:01\n",
      "   ---------------------------------- ----- 61.7/72.2 MB 29.8 MB/s eta 0:00:01\n",
      "   ---------------------------------- ----- 63.0/72.2 MB 28.5 MB/s eta 0:00:01\n",
      "   ----------------------------------- ---- 64.1/72.2 MB 27.3 MB/s eta 0:00:01\n",
      "   ------------------------------------ --- 65.3/72.2 MB 27.3 MB/s eta 0:00:01\n",
      "   ------------------------------------ --- 66.6/72.2 MB 27.3 MB/s eta 0:00:01\n",
      "   ------------------------------------- -- 67.9/72.2 MB 27.3 MB/s eta 0:00:01\n",
      "   -------------------------------------- - 69.0/72.2 MB 26.2 MB/s eta 0:00:01\n",
      "   -------------------------------------- - 70.2/72.2 MB 26.2 MB/s eta 0:00:01\n",
      "   ---------------------------------------  71.5/72.2 MB 26.2 MB/s eta 0:00:01\n",
      "   ---------------------------------------  72.2/72.2 MB 26.2 MB/s eta 0:00:01\n",
      "   ---------------------------------------  72.2/72.2 MB 26.2 MB/s eta 0:00:01\n",
      "   ---------------------------------------  72.2/72.2 MB 26.2 MB/s eta 0:00:01\n",
      "   ---------------------------------------  72.2/72.2 MB 26.2 MB/s eta 0:00:01\n",
      "   ---------------------------------------  72.2/72.2 MB 26.2 MB/s eta 0:00:01\n",
      "   ---------------------------------------  72.2/72.2 MB 26.2 MB/s eta 0:00:01\n",
      "   ---------------------------------------  72.2/72.2 MB 26.2 MB/s eta 0:00:01\n",
      "   ---------------------------------------  72.2/72.2 MB 26.2 MB/s eta 0:00:01\n",
      "   ---------------------------------------  72.2/72.2 MB 26.2 MB/s eta 0:00:01\n",
      "   ---------------------------------------  72.2/72.2 MB 26.2 MB/s eta 0:00:01\n",
      "   ---------------------------------------  72.2/72.2 MB 26.2 MB/s eta 0:00:01\n",
      "   ---------------------------------------  72.2/72.2 MB 26.2 MB/s eta 0:00:01\n",
      "   ---------------------------------------  72.2/72.2 MB 26.2 MB/s eta 0:00:01\n",
      "   ---------------------------------------  72.2/72.2 MB 26.2 MB/s eta 0:00:01\n",
      "   ---------------------------------------  72.2/72.2 MB 26.2 MB/s eta 0:00:01\n",
      "   ---------------------------------------  72.2/72.2 MB 26.2 MB/s eta 0:00:01\n",
      "   ---------------------------------------  72.2/72.2 MB 26.2 MB/s eta 0:00:01\n",
      "   ---------------------------------------  72.2/72.2 MB 26.2 MB/s eta 0:00:01\n",
      "   ---------------------------------------  72.2/72.2 MB 26.2 MB/s eta 0:00:01\n",
      "   ---------------------------------------  72.2/72.2 MB 26.2 MB/s eta 0:00:01\n",
      "   ---------------------------------------  72.2/72.2 MB 26.2 MB/s eta 0:00:01\n",
      "   ---------------------------------------  72.2/72.2 MB 26.2 MB/s eta 0:00:01\n",
      "   ---------------------------------------  72.2/72.2 MB 26.2 MB/s eta 0:00:01\n",
      "   ---------------------------------------  72.2/72.2 MB 26.2 MB/s eta 0:00:01\n",
      "   ---------------------------------------  72.2/72.2 MB 26.2 MB/s eta 0:00:01\n",
      "   ---------------------------------------- 72.2/72.2 MB 6.1 MB/s eta 0:00:00\n",
      "Downloading koparadigm-0.10.0-py3-none-any.whl (1.6 MB)\n",
      "   ---------------------------------------- 0.0/1.6 MB ? eta -:--:--\n",
      "   ------------------------------- -------- 1.2/1.6 MB 40.0 MB/s eta 0:00:01\n",
      "   ---------------------------------------- 1.6/1.6 MB 25.7 MB/s eta 0:00:00\n",
      "Downloading xlrd-1.2.0-py2.py3-none-any.whl (103 kB)\n",
      "   ---------------------------------------- 0.0/103.3 kB ? eta -:--:--\n",
      "   ---------------------------------------- 103.3/103.3 kB ? eta 0:00:00\n",
      "Downloading bidict-0.23.1-py3-none-any.whl (32 kB)\n",
      "Downloading Whoosh-2.7.4-py2.py3-none-any.whl (468 kB)\n",
      "   ---------------------------------------- 0.0/468.8 kB ? eta -:--:--\n",
      "   --------------------------------------- 468.8/468.8 kB 14.3 MB/s eta 0:00:00\n",
      "Building wheels for collected packages: kss, distance, pecab, tossi\n",
      "  Building wheel for kss (setup.py): started\n",
      "  Building wheel for kss (setup.py): still running...\n",
      "  Building wheel for kss (setup.py): finished with status 'done'\n",
      "  Created wheel for kss: filename=kss-6.0.4-py3-none-any.whl size=1089401 sha256=cf66185b46b1e3c83294b68ffa492ec88165f39ac8a93cc46b70059c386bea94\n",
      "  Stored in directory: c:\\users\\rntjdwns\\appdata\\local\\pip\\cache\\wheels\\86\\c9\\5f\\69b8fe9751eefbb5d087932ddf58d0f121b8e545335af7fe4e\n",
      "  Building wheel for distance (setup.py): started\n",
      "  Building wheel for distance (setup.py): finished with status 'done'\n",
      "  Created wheel for distance: filename=Distance-0.1.3-py3-none-any.whl size=16282 sha256=7111aedbccc77dea33978478f9cea4f509ffd0da9313026dad2f14a415b2695e\n",
      "  Stored in directory: c:\\users\\rntjdwns\\appdata\\local\\pip\\cache\\wheels\\fb\\cd\\9c\\3ab5d666e3bcacc58900b10959edd3816cc9557c7337986322\n",
      "  Building wheel for pecab (setup.py): started\n",
      "  Building wheel for pecab (setup.py): finished with status 'done'\n",
      "  Created wheel for pecab: filename=pecab-1.0.8-py3-none-any.whl size=26646701 sha256=e061e82e4c0449c708f9352cc01d717e5e9ec192a1377116967b034ff2c72848\n",
      "  Stored in directory: c:\\users\\rntjdwns\\appdata\\local\\pip\\cache\\wheels\\c9\\0d\\97\\ca2bb361e44a80f4c63efe6f6438ff903fd1ab5640eedabc1b\n",
      "  Building wheel for tossi (setup.py): started\n",
      "  Building wheel for tossi (setup.py): finished with status 'done'\n",
      "  Created wheel for tossi: filename=tossi-0.3.1-py3-none-any.whl size=12140 sha256=87753d0b79073ae7b7aad9d936aba9d1ff751bd8dc4531e44b3ead9043ea5f01\n",
      "  Stored in directory: c:\\users\\rntjdwns\\appdata\\local\\pip\\cache\\wheels\\36\\1a\\7e\\0b78039c20678a6682f03cca4295efaa5fb55a3d10d7e9837a\n",
      "Successfully built kss distance pecab tossi\n",
      "Installing collected packages: whoosh, jamo, hangul-jamo, emoji, distance, xlrd, kollocate, bidict, tossi, pecab, koparadigm, cmudict, bs4, kss\n",
      "  Attempting uninstall: xlrd\n",
      "    Found existing installation: xlrd 2.0.1\n",
      "    Uninstalling xlrd-2.0.1:\n",
      "      Successfully uninstalled xlrd-2.0.1\n",
      "Successfully installed bidict-0.23.1 bs4-0.0.2 cmudict-1.0.26 distance-0.1.3 emoji-1.2.0 hangul-jamo-1.0.1 jamo-0.4.1 kollocate-0.0.2 koparadigm-0.10.0 kss-6.0.4 pecab-1.0.8 tossi-0.3.1 whoosh-2.7.4 xlrd-1.2.0\n"
     ]
    }
   ],
   "source": [
    "# KSS(Korean Sentence Splitter)\n",
    "# 한국어에 대한 문장 토큰화 도구\n",
    "pip install kss"
   ]
  },
  {
   "cell_type": "code",
   "execution_count": 35,
   "id": "b7d271d3",
   "metadata": {},
   "outputs": [
    {
     "name": "stdout",
     "output_type": "stream",
     "text": [
      "한국어 문장 토큰화 : ['딥러닝 자연어 처리 공부하고 있는 중인데, 영어보다 한국어로 하는게 어렵네?', '열심히 해봐야겠어.']\n"
     ]
    }
   ],
   "source": [
    "import kss\n",
    "text = \"딥러닝 자연어 처리 공부하고 있는 중인데, 영어보다 한국어로 하는게 어렵네? 열심히 해봐야겠어.\"\n",
    "print('한국어 문장 토큰화 :',kss.split_sentences(text))"
   ]
  },
  {
   "cell_type": "markdown",
   "id": "d2b2cf38",
   "metadata": {},
   "source": [
    "### 한국어는 왜 토큰화가 어려울까?\n",
    "- 한국어의 경우 띄어쓰기 단위를 '어절' 이라고 합니다. 어절 토큰화는 단어 토큰화는 다른 과정입니다. 근본적인 이유로는 다른 형태를 가진 교착어이기 때문입니다.\n",
    "\n",
    "---\n",
    "\n",
    "1. 교착어\n",
    "  - 한국어에는 조사가 존재합니다. ex) '그가', '그에게', '그를', '그와', '그는' 처럼 그 뒤에 다양한 조사가 붙는다.\n",
    "  서로 다른 조사가 붙어 다른 단어로 인식이 될 경우 번거로운 경우가 빈번하게 발생합니다.\n",
    "  - 따라서 한국어 토큰화에는 형태소(morpheme)라는 개념이 중요합니다. (형태소 : 뜻을 가진 가장 작은 말의 단위)\n",
    "     - 자립 형태소 : 접사, 어미, 조사와 상관없이 자립하여 사용할 수 있는 형태소. 그 자체로 단어가 된다. <br>\n",
    "       체언(명사, 대명사, 수사), 수식언(관형사, 부사), 감탄사 등이 있다.\n",
    "     - 의존 형태소 : 다른 형태소와 결합하여 사용되는 형태소. 접사, 어미, 조사, 어간을 말한다.\n",
    "     \n",
    "     ex) 에디가 책을 읽었다. -> ['에디가', '책을', '읽었다']   \n",
    "     자립 형태소 : 에디, 책   \n",
    "     의존 형태소 : -가, -을, 읽-, -었, -다\n",
    "     \n",
    "     즉, 어절 토큰화가 아닌 형태소 토큰화를 진행해야 영어에서의 토큰화와 유사한 결과를 나타낼 수 있습니다.\n",
    "     \n",
    "2. 한국어는 띄어쓰기가 영어보다 지켜지지 않는 경우가 많다."
   ]
  },
  {
   "cell_type": "markdown",
   "id": "0b57947a",
   "metadata": {},
   "source": [
    "### 품사 태깅(Part-of-speech tagging)\n",
    "\n",
    "표기는 같지만 품사에 따라서 단어의 의미가 달라지는 경우가 있습니다.  \n",
    "ex) fly : 날다, 파리  \n",
    "ex) 못 : 망치를 사용해 고정하는 물건, 부사) 할 수 없는  "
   ]
  },
  {
   "cell_type": "code",
   "execution_count": 39,
   "id": "1932b38f",
   "metadata": {},
   "outputs": [
    {
     "name": "stdout",
     "output_type": "stream",
     "text": [
      "단어 토큰화 : ['I', 'am', 'actively', 'looking', 'for', 'Ph.D.', 'students', '.', 'and', 'you', 'are', 'a', 'Ph.D.', 'student', '.']\n",
      "\n",
      "\n",
      "품사 태깅 : [('I', 'PRP'), ('am', 'VBP'), ('actively', 'RB'), ('looking', 'VBG'), ('for', 'IN'), ('Ph.D.', 'NNP'), ('students', 'NNS'), ('.', '.'), ('and', 'CC'), ('you', 'PRP'), ('are', 'VBP'), ('a', 'DT'), ('Ph.D.', 'NNP'), ('student', 'NN'), ('.', '.')]\n"
     ]
    }
   ],
   "source": [
    "from nltk.tokenize import word_tokenize\n",
    "from nltk.tag import pos_tag\n",
    "\n",
    "text = \"I am actively looking for Ph.D. students. and you are a Ph.D. student.\"\n",
    "tokenized_sentence = word_tokenize(text)\n",
    "# PRP는 인칭 대명사, VBP는 동사, RB는 부사, VBG는 현재부사, IN은 전치사, NNP는 고유 명사, NNS는 복수형 명사, CC는 접속사, DT는 관사\n",
    "print('단어 토큰화 :',tokenized_sentence)\n",
    "print('\\n')\n",
    "print('품사 태깅 :',pos_tag(tokenized_sentence))"
   ]
  },
  {
   "cell_type": "code",
   "execution_count": 40,
   "id": "e2839c07",
   "metadata": {},
   "outputs": [
    {
     "name": "stdout",
     "output_type": "stream",
     "text": [
      "OKT 형태소 분석 : ['열심히', '코딩', '한', '당신', ',', '연휴', '에는', '여행', '을', '가봐요']\n",
      "OKT 품사 태깅 : [('열심히', 'Adverb'), ('코딩', 'Noun'), ('한', 'Josa'), ('당신', 'Noun'), (',', 'Punctuation'), ('연휴', 'Noun'), ('에는', 'Josa'), ('여행', 'Noun'), ('을', 'Josa'), ('가봐요', 'Verb')]\n",
      "OKT 명사 추출 : ['코딩', '당신', '연휴', '여행']\n"
     ]
    }
   ],
   "source": [
    "from konlpy.tag import Okt\n",
    "from konlpy.tag import Kkma\n",
    "\n",
    "okt = Okt()\n",
    "kkma = Kkma()\n",
    "\n",
    "print('OKT 형태소 분석 :',okt.morphs(\"열심히 코딩한 당신, 연휴에는 여행을 가봐요\"))\n",
    "print('OKT 품사 태깅 :',okt.pos(\"열심히 코딩한 당신, 연휴에는 여행을 가봐요\"))\n",
    "print('OKT 명사 추출 :',okt.nouns(\"열심히 코딩한 당신, 연휴에는 여행을 가봐요\")) "
   ]
  },
  {
   "cell_type": "code",
   "execution_count": 41,
   "id": "b8b802ff",
   "metadata": {},
   "outputs": [
    {
     "name": "stdout",
     "output_type": "stream",
     "text": [
      "꼬꼬마 형태소 분석 : ['열심히', '코딩', '하', 'ㄴ', '당신', ',', '연휴', '에', '는', '여행', '을', '가보', '아요']\n",
      "꼬꼬마 품사 태깅 : [('열심히', 'MAG'), ('코딩', 'NNG'), ('하', 'XSV'), ('ㄴ', 'ETD'), ('당신', 'NP'), (',', 'SP'), ('연휴', 'NNG'), ('에', 'JKM'), ('는', 'JX'), ('여행', 'NNG'), ('을', 'JKO'), ('가보', 'VV'), ('아요', 'EFN')]\n",
      "꼬꼬마 명사 추출 : ['코딩', '당신', '연휴', '여행']\n"
     ]
    }
   ],
   "source": [
    "print('꼬꼬마 형태소 분석 :',kkma.morphs(\"열심히 코딩한 당신, 연휴에는 여행을 가봐요\"))\n",
    "print('꼬꼬마 품사 태깅 :',kkma.pos(\"열심히 코딩한 당신, 연휴에는 여행을 가봐요\"))\n",
    "print('꼬꼬마 명사 추출 :',kkma.nouns(\"열심히 코딩한 당신, 연휴에는 여행을 가봐요\")) "
   ]
  }
 ],
 "metadata": {
  "kernelspec": {
   "display_name": "Python 3 (ipykernel)",
   "language": "python",
   "name": "python3"
  },
  "language_info": {
   "codemirror_mode": {
    "name": "ipython",
    "version": 3
   },
   "file_extension": ".py",
   "mimetype": "text/x-python",
   "name": "python",
   "nbconvert_exporter": "python",
   "pygments_lexer": "ipython3",
   "version": "3.11.4"
  }
 },
 "nbformat": 4,
 "nbformat_minor": 5
}
